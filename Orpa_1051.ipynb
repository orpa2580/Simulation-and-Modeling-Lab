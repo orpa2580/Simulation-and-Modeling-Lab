{
  "nbformat": 4,
  "nbformat_minor": 0,
  "metadata": {
    "colab": {
      "provenance": []
    },
    "kernelspec": {
      "name": "python3",
      "display_name": "Python 3"
    },
    "language_info": {
      "name": "python"
    }
  },
  "cells": [
    {
      "cell_type": "code",
      "execution_count": 21,
      "metadata": {
        "colab": {
          "base_uri": "https://localhost:8080/"
        },
        "id": "Buc3NfhdpEq2",
        "outputId": "6489ca33-520c-4e7f-fdae-de7ab109283e"
      },
      "outputs": [
        {
          "output_type": "stream",
          "name": "stdout",
          "text": [
            "Range Used   Total Points   Points Inside   Estimated π     Error          \n",
            "5.10         3800           2962            3.117895        0.023698       \n",
            "5.10         7600           5964            3.138947        0.002645       \n",
            "5.10         11400          8961            3.144211        0.002618       \n",
            "5.10         15200          12001           3.158158        0.016565       \n",
            "5.10         19000          14895           3.135789        0.005803       \n"
          ]
        }
      ],
      "source": [
        "import random\n",
        "import numpy as np\n",
        "import math\n",
        "\n",
        "student_id = \"51\"\n",
        "R = int(student_id[-2:])\n",
        "range_max = R / 10\n",
        "radius = R / 10\n",
        "\n",
        "full_name = \"Oporna Chowdhury Orpa\"\n",
        "letters_count = len(full_name.replace(\" \", \"\"))\n",
        "base_points = 200 * letters_count\n",
        "\n",
        "def is_inside_circle(x, y, radius):\n",
        "    return x**2 + y**2 <= radius**2\n",
        "\n",
        "def estimate_pi(num_points):\n",
        "    inside = 0\n",
        "    outside = 0\n",
        "\n",
        "    for _ in range(num_points // 2):\n",
        "        x = random.uniform(0, range_max)\n",
        "        y = random.uniform(0, range_max)\n",
        "        if is_inside_circle(x, y, radius):\n",
        "            inside += 1\n",
        "        else:\n",
        "            outside += 1\n",
        "\n",
        "    xs = np.random.rand(num_points // 2) * range_max\n",
        "    ys = np.random.rand(num_points // 2) * range_max\n",
        "    for x, y in zip(xs, ys):\n",
        "        if is_inside_circle(x, y, radius):\n",
        "            inside += 1\n",
        "        else:\n",
        "            outside += 1\n",
        "\n",
        "    estimated_pi = (inside / num_points) * ((range_max ** 2) / (radius ** 2)) * 4\n",
        "    error = abs(math.pi - estimated_pi)\n",
        "\n",
        "    return inside, outside, estimated_pi, error\n",
        "\n",
        "print(f\"{'Range Used':<12} {'Total Points':<14} {'Points Inside':<15} {'Estimated π':<15} {'Error':<15}\")\n",
        "\n",
        "for i in range(1, 6):\n",
        "    total_points = base_points * i\n",
        "    inside, outside, est_pi, err = estimate_pi(total_points)\n",
        "    print(f\"{range_max:<12.2f} {total_points:<14} {inside:<15} {est_pi:<15.6f} {err:<15.6f}\")\n"
      ]
    }
  ]
}